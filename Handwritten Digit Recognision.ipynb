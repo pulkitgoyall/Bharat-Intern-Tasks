{
 "cells": [
  {
   "cell_type": "code",
   "execution_count": 19,
   "id": "2db93192",
   "metadata": {},
   "outputs": [],
   "source": [
    "# Importing libraries\n",
    "import numpy as np\n",
    "import pandas as pd\n",
    "from keras.datasets import mnist\n",
    "from keras.models import Sequential\n",
    "from keras.layers import Dense, Conv2D, MaxPooling2D, Flatten\n",
    "from keras.utils import to_categorical"
   ]
  },
  {
   "cell_type": "code",
   "execution_count": 41,
   "id": "90cdac3f",
   "metadata": {},
   "outputs": [],
   "source": [
    "# Loading the MNIST dataset\n",
    "data = mnist.load_data()\n",
    "(train_images, train_labels), (test_images, test_labels) = data"
   ]
  },
  {
   "cell_type": "code",
   "execution_count": 42,
   "id": "1caf1dd5",
   "metadata": {},
   "outputs": [],
   "source": [
    "# Preprocessing the data\n",
    "train_images = train_images.reshape((train_images.shape[0], 28, 28, 1))\n",
    "train_images = train_images.astype('float32') / 255\n",
    "test_images = test_images.reshape((test_images.shape[0], 28, 28, 1))\n",
    "test_images = test_images.astype('float32') / 255"
   ]
  },
  {
   "cell_type": "code",
   "execution_count": 43,
   "id": "5e9566f8",
   "metadata": {},
   "outputs": [],
   "source": [
    "# Converting labels to categorical\n",
    "train_labels = to_categorical(train_labels)\n",
    "test_labels = to_categorical(test_labels)"
   ]
  },
  {
   "cell_type": "code",
   "execution_count": 44,
   "id": "abbdcfb0",
   "metadata": {},
   "outputs": [],
   "source": [
    "# Building the CNN model\n",
    "model = Sequential()\n",
    "model.add(Conv2D(32, (3, 3), activation='relu', input_shape=(28, 28, 1)))\n",
    "model.add(MaxPooling2D((2, 2)))\n",
    "model.add(Conv2D(64, (3, 3), activation='relu'))\n",
    "model.add(MaxPooling2D((2, 2)))\n",
    "model.add(Conv2D(64, (3, 3), activation='relu'))\n",
    "model.add(Flatten())\n",
    "model.add(Dense(64, activation='relu'))\n",
    "model.add(Dense(10, activation='softmax'))"
   ]
  },
  {
   "cell_type": "code",
   "execution_count": 45,
   "id": "24396939",
   "metadata": {},
   "outputs": [],
   "source": [
    "# Model Compilation\n",
    "model.compile(optimizer='rmsprop',\n",
    "              loss='categorical_crossentropy',\n",
    "              metrics=['accuracy'])"
   ]
  },
  {
   "cell_type": "code",
   "execution_count": 46,
   "id": "e0567524",
   "metadata": {},
   "outputs": [
    {
     "name": "stdout",
     "output_type": "stream",
     "text": [
      "Epoch 1/10\n",
      "938/938 [==============================] - 30s 30ms/step - loss: 0.1733 - accuracy: 0.9452\n",
      "Epoch 2/10\n",
      "938/938 [==============================] - 28s 30ms/step - loss: 0.0484 - accuracy: 0.9849\n",
      "Epoch 3/10\n",
      "938/938 [==============================] - 28s 30ms/step - loss: 0.0338 - accuracy: 0.9895\n",
      "Epoch 4/10\n",
      "938/938 [==============================] - 28s 29ms/step - loss: 0.0253 - accuracy: 0.9923\n",
      "Epoch 5/10\n",
      "938/938 [==============================] - 27s 29ms/step - loss: 0.0194 - accuracy: 0.9938\n",
      "Epoch 6/10\n",
      "938/938 [==============================] - 28s 29ms/step - loss: 0.0163 - accuracy: 0.9950\n",
      "Epoch 7/10\n",
      "938/938 [==============================] - 28s 30ms/step - loss: 0.0128 - accuracy: 0.9964\n",
      "Epoch 8/10\n",
      "938/938 [==============================] - 28s 30ms/step - loss: 0.0107 - accuracy: 0.9967\n",
      "Epoch 9/10\n",
      "938/938 [==============================] - 28s 29ms/step - loss: 0.0083 - accuracy: 0.9975\n",
      "Epoch 10/10\n",
      "938/938 [==============================] - 28s 30ms/step - loss: 0.0069 - accuracy: 0.9981\n"
     ]
    },
    {
     "data": {
      "text/plain": [
       "<keras.callbacks.History at 0x1de48f74510>"
      ]
     },
     "execution_count": 46,
     "metadata": {},
     "output_type": "execute_result"
    }
   ],
   "source": [
    "# Model Training\n",
    "model.fit(train_images, train_labels, epochs=10, batch_size=64)"
   ]
  },
  {
   "cell_type": "code",
   "execution_count": 48,
   "id": "c850e7b5",
   "metadata": {},
   "outputs": [
    {
     "name": "stdout",
     "output_type": "stream",
     "text": [
      "313/313 [==============================] - 3s 8ms/step - loss: 0.0469 - accuracy: 0.9914\n",
      "Test accuracy: 0.9914000034332275\n",
      "test Loss:  0.0468953400850296\n"
     ]
    }
   ],
   "source": [
    "# Evaluation of the Model\n",
    "test_loss, test_acc = model.evaluate(test_images, test_labels)\n",
    "print('Test accuracy:', test_acc)\n",
    "print('test Loss: ' , test_loss)"
   ]
  },
  {
   "cell_type": "code",
   "execution_count": null,
   "id": "0075d915",
   "metadata": {},
   "outputs": [],
   "source": []
  },
  {
   "cell_type": "code",
   "execution_count": null,
   "id": "9e9f4fe4",
   "metadata": {},
   "outputs": [],
   "source": []
  }
 ],
 "metadata": {
  "kernelspec": {
   "display_name": "Python 3 (ipykernel)",
   "language": "python",
   "name": "python3"
  },
  "language_info": {
   "codemirror_mode": {
    "name": "ipython",
    "version": 3
   },
   "file_extension": ".py",
   "mimetype": "text/x-python",
   "name": "python",
   "nbconvert_exporter": "python",
   "pygments_lexer": "ipython3",
   "version": "3.11.1"
  }
 },
 "nbformat": 4,
 "nbformat_minor": 5
}
